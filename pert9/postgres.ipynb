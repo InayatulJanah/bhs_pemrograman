{
 "cells": [
  {
   "cell_type": "markdown",
   "metadata": {},
   "source": [
    "## INSTALL LIBRARY"
   ]
  },
  {
   "cell_type": "code",
   "execution_count": null,
   "metadata": {},
   "outputs": [],
   "source": [
    "pip install psycopg2-binary\n",
    "pip install ipython-sql"
   ]
  },
  {
   "cell_type": "markdown",
   "metadata": {},
   "source": [
    "## IMPORT LIBRARY"
   ]
  },
  {
   "cell_type": "code",
   "execution_count": null,
   "metadata": {},
   "outputs": [],
   "source": [
    "import psycopg2\n",
    "import pandas as pd"
   ]
  },
  {
   "cell_type": "markdown",
   "metadata": {},
   "source": [
    "## DEFINE CONNECTION PARAMETER"
   ]
  },
  {
   "cell_type": "code",
   "execution_count": 1,
   "metadata": {},
   "outputs": [],
   "source": [
    "db_params = {\n",
    "    'dbname': 'bhs_pemrograman',\n",
    "    'user': 'djambred',\n",
    "    'password': 'p455w0rd',\n",
    "    'host': '127.0.0.1',\n",
    "    'port': 5432\n",
    "}"
   ]
  },
  {
   "cell_type": "markdown",
   "metadata": {},
   "source": [
    "## CONNECTION TO DATABASE"
   ]
  },
  {
   "cell_type": "code",
   "execution_count": 8,
   "metadata": {},
   "outputs": [
    {
     "name": "stdout",
     "output_type": "stream",
     "text": [
      "Error while connecting to PostgreSQL name 'psycopg2' is not defined\n"
     ]
    }
   ],
   "source": [
    "try:\n",
    "    # Connect to the PostgreSQL database\n",
    "    connection = psycopg2.connect(**db_params)\n",
    "    cursor = connection.cursor()\n",
    "    print(\"Database connection successful\")\n",
    "except Exception as error:\n",
    "    print(\"Error while connecting to PostgreSQL\", error)"
   ]
  },
  {
   "cell_type": "markdown",
   "metadata": {},
   "source": [
    "## CREATE TABLE"
   ]
  },
  {
   "cell_type": "code",
   "execution_count": 4,
   "metadata": {},
   "outputs": [
    {
     "name": "stdout",
     "output_type": "stream",
     "text": [
      "Error while creating table name 'cursor' is not defined\n"
     ]
    }
   ],
   "source": [
    "create_table_query = '''\n",
    "CREATE TABLE IF NOT EXISTS testing (\n",
    "    id SERIAL PRIMARY KEY,\n",
    "    name VARCHAR(100),\n",
    "    age INTEGER\n",
    ")\n",
    "'''\n",
    "try:\n",
    "    cursor.execute(create_table_query)\n",
    "    connection.commit()\n",
    "    print(\"Table created successfully\")\n",
    "except Exception as error:\n",
    "    print(\"Error while creating table\", error)"
   ]
  },
  {
   "cell_type": "markdown",
   "metadata": {},
   "source": [
    "## INSERT DATA"
   ]
  },
  {
   "cell_type": "code",
   "execution_count": 5,
   "metadata": {},
   "outputs": [
    {
     "name": "stdout",
     "output_type": "stream",
     "text": [
      "Error while inserting data name 'cursor' is not defined\n"
     ]
    }
   ],
   "source": [
    "insert_query = '''\n",
    "INSERT INTO testing (name, age) VALUES (%s, %s)\n",
    "'''\n",
    "data_to_insert = [('Ani', 20), ('Budi', 21), ('Caca', 19)]\n",
    "try:\n",
    "    cursor.executemany(insert_query, data_to_insert)\n",
    "    connection.commit()\n",
    "    print(\"Data inserted successfully\")\n",
    "except Exception as error:\n",
    "    print(\"Error while inserting data\", error)"
   ]
  },
  {
   "cell_type": "markdown",
   "metadata": {},
   "source": [
    "## QUERY DATA"
   ]
  },
  {
   "cell_type": "code",
   "execution_count": 6,
   "metadata": {},
   "outputs": [
    {
     "name": "stdout",
     "output_type": "stream",
     "text": [
      "Error while retrieving data name 'cursor' is not defined\n"
     ]
    }
   ],
   "source": [
    "select_query = '''\n",
    "SELECT * FROM testing\n",
    "'''\n",
    "try:\n",
    "    cursor.execute(select_query)\n",
    "    rows = cursor.fetchall()\n",
    "    df = pd.DataFrame(rows, columns=['id', 'name', 'age'])\n",
    "    print(\"Data retrieved successfully\")\n",
    "    display(df)\n",
    "except Exception as error:\n",
    "    print(\"Error while retrieving data\", error)"
   ]
  },
  {
   "cell_type": "markdown",
   "metadata": {},
   "source": [
    "## CLOSE CONNECTION"
   ]
  },
  {
   "cell_type": "code",
   "execution_count": 7,
   "metadata": {},
   "outputs": [
    {
     "ename": "NameError",
     "evalue": "name 'connection' is not defined",
     "output_type": "error",
     "traceback": [
      "\u001b[0;31m---------------------------------------------------------------------------\u001b[0m",
      "\u001b[0;31mNameError\u001b[0m                                 Traceback (most recent call last)",
      "Cell \u001b[0;32mIn[7], line 1\u001b[0m\n\u001b[0;32m----> 1\u001b[0m \u001b[38;5;28;01mif\u001b[39;00m \u001b[43mconnection\u001b[49m:\n\u001b[1;32m      2\u001b[0m     cursor\u001b[38;5;241m.\u001b[39mclose()\n\u001b[1;32m      3\u001b[0m     connection\u001b[38;5;241m.\u001b[39mclose()\n",
      "\u001b[0;31mNameError\u001b[0m: name 'connection' is not defined"
     ]
    }
   ],
   "source": [
    "if connection:\n",
    "    cursor.close()\n",
    "    connection.close()\n",
    "print(\"PostgreSQL connection is closed\")"
   ]
  }
 ],
 "metadata": {
  "kernelspec": {
   "display_name": "Python 3",
   "language": "python",
   "name": "python3"
  },
  "language_info": {
   "codemirror_mode": {
    "name": "ipython",
    "version": 3
   },
   "file_extension": ".py",
   "mimetype": "text/x-python",
   "name": "python",
   "nbconvert_exporter": "python",
   "pygments_lexer": "ipython3",
   "version": "3.10.12"
  }
 },
 "nbformat": 4,
 "nbformat_minor": 2
}
