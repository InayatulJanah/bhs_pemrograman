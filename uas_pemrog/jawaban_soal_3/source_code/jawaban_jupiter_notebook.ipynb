{
 "cells": [
  {
   "cell_type": "code",
   "execution_count": null,
   "metadata": {},
   "outputs": [],
   "source": [
    "{\n",
    " \"cells\": [\n",
    "  {\n",
    "   \"cell_type\": \"code\",\n",
    "   \"execution_count\": null,\n",
    "   \"id\": \"d4e5a6c4\",\n",
    "   \"metadata\": {},\n",
    "   \"outputs\": [],\n",
    "   \"source\": [\n",
    "    \"import tkinter as tk\\n\",\n",
    "    \"\\n\",\n",
    "    \"def on_button_click():\\n\",\n",
    "    \"    label.config(text=\\\"Halo, Tkinter!\\\")\\n\",\n",
    "    \"\\n\",\n",
    "    \"root = tk.Tk()\\n\",\n",
    "    \"root.title(\\\"GUI Sederhana\\\")\\n\",\n",
    "    \"\\n\",\n",
    "    \"label = tk.Label(root, text=\\\"Selamat datang!\\\")\\n\",\n",
    "    \"label.pack()\\n\",\n",
    "    \"\\n\",\n",
    "    \"button = tk.Button(root, text=\\\"Klik Saya\\\", command=on_button_click)\\n\",\n",
    "    \"button.pack()\\n\",\n",
    "    \"\\n\",\n",
    "    \"root.mainloop()\"\n",
    "   ]\n",
    "  }\n",
    " ],\n",
    " \"metadata\": {\n",
    "  \"kernelspec\": {\n",
    "   \"display_name\": \"Python 3\",\n",
    "   \"language\": \"python\",\n",
    "   \"name\": \"python3\"\n",
    "  },\n",
    "  \"language_info\": {\n",
    "   \"codemirror_mode\": {\n",
    "    \"name\": \"ipython\",\n",
    "    \"version\": 3\n",
    "   },\n",
    "   \"file_extension\": \".py\",\n",
    "   \"mimetype\": \"text/x-python\",\n",
    "   \"name\": \"python\",\n",
    "   \"nbconvert_exporter\": \"python\",\n",
    "   \"pygments_lexer\": \"ipython3\",\n",
    "   \"version\": \"3.7.3\"\n",
    "  }\n",
    " },\n",
    " \"nbformat\": 4,\n",
    " \"nbformat_minor\": 5\n",
    "}\n"
   ]
  }
 ],
 "metadata": {
  "language_info": {
   "name": "python"
  }
 },
 "nbformat": 4,
 "nbformat_minor": 2
}
